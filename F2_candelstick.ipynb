{
 "cells": [
  {
   "cell_type": "markdown",
   "metadata": {},
   "source": [
    "Here we take stock price data for Tesla and plot out a candlestick graph (displays ohlc info). I downloaded the Tesla data from yahoo and then saved it as a csv. In the next document I'll write coade to automate this process for multiple companies."
   ]
  },
  {
   "cell_type": "code",
   "execution_count": 12,
   "metadata": {},
   "outputs": [],
   "source": [
    "import datetime as dt\n",
    "\n",
    "import pandas as pd\n",
    "\n",
    "\n",
    "\n",
    "\n",
    "import matplotlib.pyplot as plt\n",
    "from matplotlib import style\n",
    "import mplfinance as mpf \n",
    "#the mplfinance module and it's predecessors (used to be a part of matplotlib) have been through a lot of \n",
    "#changes recently for the docs and other info got to https://github.com/matplotlib/mpl-finance.\n",
    "import matplotlib.dates as mdates\n",
    "\n",
    "\n",
    "\n",
    "style.use('ggplot') #arbitrary style choice, but apparently this emulates the ggplot package in R.\n",
    "\n"
   ]
  },
  {
   "cell_type": "code",
   "execution_count": 13,
   "metadata": {},
   "outputs": [
    {
     "data": {
      "text/html": [
       "<div>\n",
       "<style scoped>\n",
       "    .dataframe tbody tr th:only-of-type {\n",
       "        vertical-align: middle;\n",
       "    }\n",
       "\n",
       "    .dataframe tbody tr th {\n",
       "        vertical-align: top;\n",
       "    }\n",
       "\n",
       "    .dataframe thead th {\n",
       "        text-align: right;\n",
       "    }\n",
       "</style>\n",
       "<table border=\"1\" class=\"dataframe\">\n",
       "  <thead>\n",
       "    <tr style=\"text-align: right;\">\n",
       "      <th></th>\n",
       "      <th>High</th>\n",
       "      <th>Low</th>\n",
       "      <th>Open</th>\n",
       "      <th>Close</th>\n",
       "      <th>Volume</th>\n",
       "      <th>Adj Close</th>\n",
       "    </tr>\n",
       "    <tr>\n",
       "      <th>Date</th>\n",
       "      <th></th>\n",
       "      <th></th>\n",
       "      <th></th>\n",
       "      <th></th>\n",
       "      <th></th>\n",
       "      <th></th>\n",
       "    </tr>\n",
       "  </thead>\n",
       "  <tbody>\n",
       "    <tr>\n",
       "      <th>2010-06-29</th>\n",
       "      <td>5.000</td>\n",
       "      <td>3.508</td>\n",
       "      <td>3.800</td>\n",
       "      <td>4.778</td>\n",
       "      <td>93831500.0</td>\n",
       "      <td>4.778</td>\n",
       "    </tr>\n",
       "    <tr>\n",
       "      <th>2010-06-30</th>\n",
       "      <td>6.084</td>\n",
       "      <td>4.660</td>\n",
       "      <td>5.158</td>\n",
       "      <td>4.766</td>\n",
       "      <td>85935500.0</td>\n",
       "      <td>4.766</td>\n",
       "    </tr>\n",
       "    <tr>\n",
       "      <th>2010-07-01</th>\n",
       "      <td>5.184</td>\n",
       "      <td>4.054</td>\n",
       "      <td>5.000</td>\n",
       "      <td>4.392</td>\n",
       "      <td>41094000.0</td>\n",
       "      <td>4.392</td>\n",
       "    </tr>\n",
       "    <tr>\n",
       "      <th>2010-07-02</th>\n",
       "      <td>4.620</td>\n",
       "      <td>3.742</td>\n",
       "      <td>4.600</td>\n",
       "      <td>3.840</td>\n",
       "      <td>25699000.0</td>\n",
       "      <td>3.840</td>\n",
       "    </tr>\n",
       "    <tr>\n",
       "      <th>2010-07-06</th>\n",
       "      <td>4.000</td>\n",
       "      <td>3.166</td>\n",
       "      <td>4.000</td>\n",
       "      <td>3.222</td>\n",
       "      <td>34334500.0</td>\n",
       "      <td>3.222</td>\n",
       "    </tr>\n",
       "  </tbody>\n",
       "</table>\n",
       "</div>"
      ],
      "text/plain": [
       "             High    Low   Open  Close      Volume  Adj Close\n",
       "Date                                                         \n",
       "2010-06-29  5.000  3.508  3.800  4.778  93831500.0      4.778\n",
       "2010-06-30  6.084  4.660  5.158  4.766  85935500.0      4.766\n",
       "2010-07-01  5.184  4.054  5.000  4.392  41094000.0      4.392\n",
       "2010-07-02  4.620  3.742  4.600  3.840  25699000.0      3.840\n",
       "2010-07-06  4.000  3.166  4.000  3.222  34334500.0      3.222"
      ]
     },
     "execution_count": 13,
     "metadata": {},
     "output_type": "execute_result"
    }
   ],
   "source": [
    "df = pd.read_csv('tsla.csv', parse_dates =True, index_col=0) \n",
    "df.head()\n"
   ]
  },
  {
   "cell_type": "markdown",
   "metadata": {},
   "source": [
    "Let's plot again, but first recall our time-series data is currently daily; let's assume we don't care that much about the daily prices, so we'll 'resample' the time series with a window of say 10 days (i.e. we'll graph the data every 10 data points) using the resample function from pandas and then tack on some aggregate function."
   ]
  },
  {
   "cell_type": "code",
   "execution_count": 14,
   "metadata": {},
   "outputs": [
    {
     "data": {
      "text/plain": [
       "Date\n",
       "2010-06-29      3.950000\n",
       "2010-07-09      3.765333\n",
       "2010-07-19      4.173500\n",
       "2010-07-29      4.127429\n",
       "2010-08-08      3.725143\n",
       "                 ...    \n",
       "2020-08-05    301.168495\n",
       "2020-08-15    388.908997\n",
       "2020-08-25    444.183998\n",
       "2020-09-04    371.773999\n",
       "2020-09-14    428.837502\n",
       "Freq: 10D, Name: Adj Close, Length: 374, dtype: float64"
      ]
     },
     "execution_count": 14,
     "metadata": {},
     "output_type": "execute_result"
    }
   ],
   "source": [
    "df_mean = df['Adj Close'].resample(rule='10D').mean() \n",
    "#the rule is the new rule we'll resample our data by, I put 10 days.\n",
    "#I must then aggregate this by some aggregate function, I choose mean here.\n",
    "\n",
    "#Note: the object I'm resampling must be a DateTime object.\n",
    "\n",
    "\n",
    "#TO BE CLEAR: You can see below the index is every 10 days.\n",
    "              \n",
    "#             The above is calculating the mean every 10 days and displaying that\n",
    "#             (e.g the value below for 2010-07-09 takes the Adjusted Close values for the previous \n",
    "#             10 days and calculated the mean and displays that).\n",
    "\n",
    "\n",
    "\n",
    "df_mean"
   ]
  },
  {
   "cell_type": "markdown",
   "metadata": {},
   "source": [
    "Now we'll do the same as above but we'll use a different aggregate function. We'll use the .ohlc() function (ohlc = open, high, low, close).\n",
    "\n",
    "What does it mean to resample (the Adj Close column), with a rule of 10 days, with respect to the .ohlc() function?:\n",
    "\n",
    "For a given date, you take the adj close values for the previous 10 days and figure out the open (the Adj Close value at the beginning of the 10day period), the high (the highest Adj Close value over this 10 day period), the low (the lowest Adj Close value over this 10 day period), the close (the Adj Close value on the last day of the 10day period). So the index here is the end-date of this 10 day period.\n",
    "\n",
    "It returns a DataFrame with the index as the end date of every 10 day period and it has columns 'open', 'high', 'low' and 'close' which for each date display the value described in the previous paragraph. \n",
    "\n",
    "\n"
   ]
  },
  {
   "cell_type": "code",
   "execution_count": 15,
   "metadata": {},
   "outputs": [],
   "source": [
    "df_ohlc = df['Adj Close'].resample(rule='10D').ohlc()"
   ]
  },
  {
   "cell_type": "markdown",
   "metadata": {},
   "source": [
    "Next we resample every 10days over the 'Volume' column but using the sum() function as the aggregate. As you may guess, the sum takes the values of Volume in the previous 10 days and adds it together. Again the index is the end-date of the 10day periods\n"
   ]
  },
  {
   "cell_type": "code",
   "execution_count": 16,
   "metadata": {},
   "outputs": [
    {
     "data": {
      "text/plain": [
       "Date\n",
       "2010-06-29    354060000.0\n",
       "2010-07-09     97447500.0\n",
       "2010-07-19     45924000.0\n",
       "2010-07-29     27213000.0\n",
       "2010-08-08     25751500.0\n",
       "Freq: 10D, Name: Volume, dtype: float64"
      ]
     },
     "execution_count": 16,
     "metadata": {},
     "output_type": "execute_result"
    }
   ],
   "source": [
    "df_volume = df['Volume'].resample(rule='10D').sum()\n",
    "df_volume.head()"
   ]
  },
  {
   "cell_type": "markdown",
   "metadata": {},
   "source": [
    "Now we're going to plot ohlc info in candlestick form using mplfinance."
   ]
  },
  {
   "cell_type": "code",
   "execution_count": 17,
   "metadata": {},
   "outputs": [
    {
     "data": {
      "text/html": [
       "<div>\n",
       "<style scoped>\n",
       "    .dataframe tbody tr th:only-of-type {\n",
       "        vertical-align: middle;\n",
       "    }\n",
       "\n",
       "    .dataframe tbody tr th {\n",
       "        vertical-align: top;\n",
       "    }\n",
       "\n",
       "    .dataframe thead th {\n",
       "        text-align: right;\n",
       "    }\n",
       "</style>\n",
       "<table border=\"1\" class=\"dataframe\">\n",
       "  <thead>\n",
       "    <tr style=\"text-align: right;\">\n",
       "      <th></th>\n",
       "      <th>open</th>\n",
       "      <th>high</th>\n",
       "      <th>low</th>\n",
       "      <th>close</th>\n",
       "    </tr>\n",
       "    <tr>\n",
       "      <th>Date</th>\n",
       "      <th></th>\n",
       "      <th></th>\n",
       "      <th></th>\n",
       "      <th></th>\n",
       "    </tr>\n",
       "  </thead>\n",
       "  <tbody>\n",
       "    <tr>\n",
       "      <th>2010-06-29</th>\n",
       "      <td>4.778000</td>\n",
       "      <td>4.778000</td>\n",
       "      <td>3.160000</td>\n",
       "      <td>3.492000</td>\n",
       "    </tr>\n",
       "    <tr>\n",
       "      <th>2010-07-09</th>\n",
       "      <td>3.480000</td>\n",
       "      <td>4.128000</td>\n",
       "      <td>3.410000</td>\n",
       "      <td>4.128000</td>\n",
       "    </tr>\n",
       "    <tr>\n",
       "      <th>2010-07-19</th>\n",
       "      <td>4.382000</td>\n",
       "      <td>4.382000</td>\n",
       "      <td>4.044000</td>\n",
       "      <td>4.144000</td>\n",
       "    </tr>\n",
       "    <tr>\n",
       "      <th>2010-07-29</th>\n",
       "      <td>4.070000</td>\n",
       "      <td>4.390000</td>\n",
       "      <td>3.918000</td>\n",
       "      <td>3.918000</td>\n",
       "    </tr>\n",
       "    <tr>\n",
       "      <th>2010-08-08</th>\n",
       "      <td>3.920000</td>\n",
       "      <td>3.920000</td>\n",
       "      <td>3.520000</td>\n",
       "      <td>3.830000</td>\n",
       "    </tr>\n",
       "    <tr>\n",
       "      <th>...</th>\n",
       "      <td>...</td>\n",
       "      <td>...</td>\n",
       "      <td>...</td>\n",
       "      <td>...</td>\n",
       "    </tr>\n",
       "    <tr>\n",
       "      <th>2020-08-05</th>\n",
       "      <td>297.003998</td>\n",
       "      <td>330.141998</td>\n",
       "      <td>274.877991</td>\n",
       "      <td>330.141998</td>\n",
       "    </tr>\n",
       "    <tr>\n",
       "      <th>2020-08-15</th>\n",
       "      <td>367.127991</td>\n",
       "      <td>409.996002</td>\n",
       "      <td>367.127991</td>\n",
       "      <td>402.839996</td>\n",
       "    </tr>\n",
       "    <tr>\n",
       "      <th>2020-08-25</th>\n",
       "      <td>404.667999</td>\n",
       "      <td>498.320007</td>\n",
       "      <td>404.667999</td>\n",
       "      <td>407.000000</td>\n",
       "    </tr>\n",
       "    <tr>\n",
       "      <th>2020-09-04</th>\n",
       "      <td>418.320007</td>\n",
       "      <td>418.320007</td>\n",
       "      <td>330.209991</td>\n",
       "      <td>372.720001</td>\n",
       "    </tr>\n",
       "    <tr>\n",
       "      <th>2020-09-14</th>\n",
       "      <td>419.619995</td>\n",
       "      <td>449.760010</td>\n",
       "      <td>380.359985</td>\n",
       "      <td>380.359985</td>\n",
       "    </tr>\n",
       "  </tbody>\n",
       "</table>\n",
       "<p>374 rows × 4 columns</p>\n",
       "</div>"
      ],
      "text/plain": [
       "                  open        high         low       close\n",
       "Date                                                      \n",
       "2010-06-29    4.778000    4.778000    3.160000    3.492000\n",
       "2010-07-09    3.480000    4.128000    3.410000    4.128000\n",
       "2010-07-19    4.382000    4.382000    4.044000    4.144000\n",
       "2010-07-29    4.070000    4.390000    3.918000    3.918000\n",
       "2010-08-08    3.920000    3.920000    3.520000    3.830000\n",
       "...                ...         ...         ...         ...\n",
       "2020-08-05  297.003998  330.141998  274.877991  330.141998\n",
       "2020-08-15  367.127991  409.996002  367.127991  402.839996\n",
       "2020-08-25  404.667999  498.320007  404.667999  407.000000\n",
       "2020-09-04  418.320007  418.320007  330.209991  372.720001\n",
       "2020-09-14  419.619995  449.760010  380.359985  380.359985\n",
       "\n",
       "[374 rows x 4 columns]"
      ]
     },
     "execution_count": 17,
     "metadata": {},
     "output_type": "execute_result"
    }
   ],
   "source": [
    "df_ohlc"
   ]
  },
  {
   "cell_type": "code",
   "execution_count": 18,
   "metadata": {},
   "outputs": [
    {
     "data": {
      "text/plain": [
       "['binance',\n",
       " 'blueskies',\n",
       " 'brasil',\n",
       " 'charles',\n",
       " 'checkers',\n",
       " 'classic',\n",
       " 'default',\n",
       " 'mike',\n",
       " 'nightclouds',\n",
       " 'sas',\n",
       " 'starsandstripes',\n",
       " 'yahoo']"
      ]
     },
     "execution_count": 18,
     "metadata": {},
     "output_type": "execute_result"
    }
   ],
   "source": [
    "mpf.available_styles()"
   ]
  },
  {
   "cell_type": "code",
   "execution_count": 19,
   "metadata": {},
   "outputs": [
    {
     "data": {
      "image/png": "[encoded data removed]",
      "text/plain": [
       "<Figure size 800x575 with 4 Axes>"
      ]
     },
     "metadata": {},
     "output_type": "display_data"
    }
   ],
   "source": [
    "df_recent = df.loc['2020-08-05':'2020-09-14']\n",
    "\n",
    "mpf.plot(df_recent, type='candle', volume=True, style='charles', tight_layout=True)\n",
    "\n",
    "#volume=True means it detects and includes the volume column from the DataFrame\n",
    "#tight_layout=True means the graph is made to fit the figure size.\n",
    "#note you can scale the size of the figure by figscale=. The default you see here is 1. "
   ]
  }
 ],
 "metadata": {
  "kernelspec": {
   "display_name": "Python 3",
   "language": "python",
   "name": "python3"
  },
  "language_info": {
   "codemirror_mode": {
    "name": "ipython",
    "version": 3
   },
   "file_extension": ".py",
   "mimetype": "text/x-python",
   "name": "python",
   "nbconvert_exporter": "python",
   "pygments_lexer": "ipython3",
   "version": "3.7.6"
  }
 },
 "nbformat": 4,
 "nbformat_minor": 4
}
