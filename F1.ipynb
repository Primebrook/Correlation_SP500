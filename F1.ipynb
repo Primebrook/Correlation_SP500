{
 "cells": [
  {
   "cell_type": "code",
   "execution_count": 48,
   "metadata": {},
   "outputs": [],
   "source": [
    "import datetime as dt\n",
    "\n",
    "import pandas as pd\n",
    "\n",
    "import pandas_datareader.data as web\n",
    "\n",
    "\n",
    "import matplotlib.pyplot as plt\n",
    "from matplotlib import style\n",
    "\n",
    "import bs4\n",
    "\n",
    "\n",
    "style.use('ggplot')\n",
    "\n"
   ]
  },
  {
   "cell_type": "code",
   "execution_count": 49,
   "metadata": {},
   "outputs": [],
   "source": [
    "#start = dt.datetime(2000,1,1)\n",
    "#end = dt.datetime(2020,9,23)\n",
    "\n",
    "\n",
    "#df = web.DataReader('TSLA','yahoo', start, end)\n",
    "    #Adjusted Close accounts for stock splits\n",
    "\n",
    "#print(df.head())\n",
    "#df.to_csv('tsla.csv')\n",
    "#dftsla = pd.read_csv('tsla.csv')\n",
    "#dftsla.head()"
   ]
  },
  {
   "cell_type": "markdown",
   "metadata": {},
   "source": [
    "Notice that in df, the datareader knew to index by the date, but now when converted to a csv file and then read by pandas into a DataFrame, we lose this indexing; this is because a csv file is just a textfile essentially, it doesn't know how to index. \n",
    "\n",
    "Now we can 'comment out' the entire of the previous cell because we now have a csv file stored locally, so we can can just read this."
   ]
  },
  {
   "cell_type": "code",
   "execution_count": 50,
   "metadata": {},
   "outputs": [
    {
     "data": {
      "text/html": [
       "<div>\n",
       "<style scoped>\n",
       "    .dataframe tbody tr th:only-of-type {\n",
       "        vertical-align: middle;\n",
       "    }\n",
       "\n",
       "    .dataframe tbody tr th {\n",
       "        vertical-align: top;\n",
       "    }\n",
       "\n",
       "    .dataframe thead th {\n",
       "        text-align: right;\n",
       "    }\n",
       "</style>\n",
       "<table border=\"1\" class=\"dataframe\">\n",
       "  <thead>\n",
       "    <tr style=\"text-align: right;\">\n",
       "      <th></th>\n",
       "      <th>High</th>\n",
       "      <th>Low</th>\n",
       "      <th>Open</th>\n",
       "      <th>Close</th>\n",
       "      <th>Volume</th>\n",
       "      <th>Adj Close</th>\n",
       "    </tr>\n",
       "    <tr>\n",
       "      <th>Date</th>\n",
       "      <th></th>\n",
       "      <th></th>\n",
       "      <th></th>\n",
       "      <th></th>\n",
       "      <th></th>\n",
       "      <th></th>\n",
       "    </tr>\n",
       "  </thead>\n",
       "  <tbody>\n",
       "    <tr>\n",
       "      <th>2010-06-29</th>\n",
       "      <td>5.000</td>\n",
       "      <td>3.508</td>\n",
       "      <td>3.800</td>\n",
       "      <td>4.778</td>\n",
       "      <td>93831500.0</td>\n",
       "      <td>4.778</td>\n",
       "    </tr>\n",
       "    <tr>\n",
       "      <th>2010-06-30</th>\n",
       "      <td>6.084</td>\n",
       "      <td>4.660</td>\n",
       "      <td>5.158</td>\n",
       "      <td>4.766</td>\n",
       "      <td>85935500.0</td>\n",
       "      <td>4.766</td>\n",
       "    </tr>\n",
       "    <tr>\n",
       "      <th>2010-07-01</th>\n",
       "      <td>5.184</td>\n",
       "      <td>4.054</td>\n",
       "      <td>5.000</td>\n",
       "      <td>4.392</td>\n",
       "      <td>41094000.0</td>\n",
       "      <td>4.392</td>\n",
       "    </tr>\n",
       "    <tr>\n",
       "      <th>2010-07-02</th>\n",
       "      <td>4.620</td>\n",
       "      <td>3.742</td>\n",
       "      <td>4.600</td>\n",
       "      <td>3.840</td>\n",
       "      <td>25699000.0</td>\n",
       "      <td>3.840</td>\n",
       "    </tr>\n",
       "    <tr>\n",
       "      <th>2010-07-06</th>\n",
       "      <td>4.000</td>\n",
       "      <td>3.166</td>\n",
       "      <td>4.000</td>\n",
       "      <td>3.222</td>\n",
       "      <td>34334500.0</td>\n",
       "      <td>3.222</td>\n",
       "    </tr>\n",
       "  </tbody>\n",
       "</table>\n",
       "</div>"
      ],
      "text/plain": [
       "             High    Low   Open  Close      Volume  Adj Close\n",
       "Date                                                         \n",
       "2010-06-29  5.000  3.508  3.800  4.778  93831500.0      4.778\n",
       "2010-06-30  6.084  4.660  5.158  4.766  85935500.0      4.766\n",
       "2010-07-01  5.184  4.054  5.000  4.392  41094000.0      4.392\n",
       "2010-07-02  4.620  3.742  4.600  3.840  25699000.0      3.840\n",
       "2010-07-06  4.000  3.166  4.000  3.222  34334500.0      3.222"
      ]
     },
     "execution_count": 50,
     "metadata": {},
     "output_type": "execute_result"
    }
   ],
   "source": [
    "df = pd.read_csv('tsla.csv', parse_dates =True, index_col=0) \n",
    "# since parse_dates=True this means pandas will try to \n",
    "# automatically detect dates and convert them into datetime objects. \n",
    "\n",
    "# The index_col=0 indexes the 0th column.\n",
    "\n",
    "df.head()\n",
    "\n"
   ]
  },
  {
   "cell_type": "code",
   "execution_count": 51,
   "metadata": {},
   "outputs": [
    {
     "data": {
      "image/png": "[encoded data removed]",
      "text/plain": [
       "<Figure size 432x288 with 1 Axes>"
      ]
     },
     "metadata": {},
     "output_type": "display_data"
    }
   ],
   "source": [
    "df.plot()\n",
    "plt.show()"
   ]
  },
  {
   "cell_type": "markdown",
   "metadata": {},
   "source": [
    "As you can see the only quantity you can really see on the above graph is the 'Volume' (i.e. the volume of shares traded that day), that's because the values for 'Volume' are waaay more than any other column (if you look closely you can see the other coloured lines appear at the bottom almost tracing the x-axis). So we should reference some specific columns to plot."
   ]
  },
  {
   "cell_type": "code",
   "execution_count": 56,
   "metadata": {},
   "outputs": [
    {
     "data": {
      "image/png": "[encoded data removed]",
      "text/plain": [
       "<Figure size 432x288 with 1 Axes>"
      ]
     },
     "metadata": {},
     "output_type": "display_data"
    }
   ],
   "source": [
    "df['Adj Close'].plot()\n",
    "plt.show()\n",
    "\n"
   ]
  },
  {
   "cell_type": "code",
   "execution_count": 57,
   "metadata": {},
   "outputs": [
    {
     "data": {
      "image/png": "[encoded data removed]",
      "text/plain": [
       "<Figure size 432x288 with 1 Axes>"
      ]
     },
     "metadata": {},
     "output_type": "display_data"
    }
   ],
   "source": [
    "df[['Adj Close', 'High']].plot()\n",
    "plt.show()\n",
    "\n",
    "#Notice when referencing more than one column I have to have a double square brackets so that \n",
    "#pandas knows I want to return a DataFrame (which I then plot), this isn't necessary when quoting one column \n",
    "#as seen in the previous cell."
   ]
  },
  {
   "cell_type": "markdown",
   "metadata": {},
   "source": [
    "We create a new column on our df for the moving average with a window of 100:"
   ]
  },
  {
   "cell_type": "code",
   "execution_count": 67,
   "metadata": {},
   "outputs": [
    {
     "data": {
      "text/html": [
       "<div>\n",
       "<style scoped>\n",
       "    .dataframe tbody tr th:only-of-type {\n",
       "        vertical-align: middle;\n",
       "    }\n",
       "\n",
       "    .dataframe tbody tr th {\n",
       "        vertical-align: top;\n",
       "    }\n",
       "\n",
       "    .dataframe thead th {\n",
       "        text-align: right;\n",
       "    }\n",
       "</style>\n",
       "<table border=\"1\" class=\"dataframe\">\n",
       "  <thead>\n",
       "    <tr style=\"text-align: right;\">\n",
       "      <th></th>\n",
       "      <th>High</th>\n",
       "      <th>Low</th>\n",
       "      <th>Open</th>\n",
       "      <th>Close</th>\n",
       "      <th>Volume</th>\n",
       "      <th>Adj Close</th>\n",
       "      <th>100ma</th>\n",
       "    </tr>\n",
       "    <tr>\n",
       "      <th>Date</th>\n",
       "      <th></th>\n",
       "      <th></th>\n",
       "      <th></th>\n",
       "      <th></th>\n",
       "      <th></th>\n",
       "      <th></th>\n",
       "      <th></th>\n",
       "    </tr>\n",
       "  </thead>\n",
       "  <tbody>\n",
       "    <tr>\n",
       "      <th>2010-06-29</th>\n",
       "      <td>5.000</td>\n",
       "      <td>3.508</td>\n",
       "      <td>3.800</td>\n",
       "      <td>4.778</td>\n",
       "      <td>93831500.0</td>\n",
       "      <td>4.778</td>\n",
       "      <td>4.778000</td>\n",
       "    </tr>\n",
       "    <tr>\n",
       "      <th>2010-06-30</th>\n",
       "      <td>6.084</td>\n",
       "      <td>4.660</td>\n",
       "      <td>5.158</td>\n",
       "      <td>4.766</td>\n",
       "      <td>85935500.0</td>\n",
       "      <td>4.766</td>\n",
       "      <td>4.772000</td>\n",
       "    </tr>\n",
       "    <tr>\n",
       "      <th>2010-07-01</th>\n",
       "      <td>5.184</td>\n",
       "      <td>4.054</td>\n",
       "      <td>5.000</td>\n",
       "      <td>4.392</td>\n",
       "      <td>41094000.0</td>\n",
       "      <td>4.392</td>\n",
       "      <td>4.645333</td>\n",
       "    </tr>\n",
       "    <tr>\n",
       "      <th>2010-07-02</th>\n",
       "      <td>4.620</td>\n",
       "      <td>3.742</td>\n",
       "      <td>4.600</td>\n",
       "      <td>3.840</td>\n",
       "      <td>25699000.0</td>\n",
       "      <td>3.840</td>\n",
       "      <td>4.444000</td>\n",
       "    </tr>\n",
       "    <tr>\n",
       "      <th>2010-07-06</th>\n",
       "      <td>4.000</td>\n",
       "      <td>3.166</td>\n",
       "      <td>4.000</td>\n",
       "      <td>3.222</td>\n",
       "      <td>34334500.0</td>\n",
       "      <td>3.222</td>\n",
       "      <td>4.199600</td>\n",
       "    </tr>\n",
       "    <tr>\n",
       "      <th>2010-07-07</th>\n",
       "      <td>3.326</td>\n",
       "      <td>2.996</td>\n",
       "      <td>3.280</td>\n",
       "      <td>3.160</td>\n",
       "      <td>34608500.0</td>\n",
       "      <td>3.160</td>\n",
       "      <td>4.026333</td>\n",
       "    </tr>\n",
       "    <tr>\n",
       "      <th>2010-07-08</th>\n",
       "      <td>3.504</td>\n",
       "      <td>3.114</td>\n",
       "      <td>3.228</td>\n",
       "      <td>3.492</td>\n",
       "      <td>38557000.0</td>\n",
       "      <td>3.492</td>\n",
       "      <td>3.950000</td>\n",
       "    </tr>\n",
       "    <tr>\n",
       "      <th>2010-07-09</th>\n",
       "      <td>3.580</td>\n",
       "      <td>3.310</td>\n",
       "      <td>3.516</td>\n",
       "      <td>3.480</td>\n",
       "      <td>20253000.0</td>\n",
       "      <td>3.480</td>\n",
       "      <td>3.891250</td>\n",
       "    </tr>\n",
       "    <tr>\n",
       "      <th>2010-07-12</th>\n",
       "      <td>3.614</td>\n",
       "      <td>3.400</td>\n",
       "      <td>3.590</td>\n",
       "      <td>3.410</td>\n",
       "      <td>11012500.0</td>\n",
       "      <td>3.410</td>\n",
       "      <td>3.837778</td>\n",
       "    </tr>\n",
       "    <tr>\n",
       "      <th>2010-07-13</th>\n",
       "      <td>3.728</td>\n",
       "      <td>3.380</td>\n",
       "      <td>3.478</td>\n",
       "      <td>3.628</td>\n",
       "      <td>13400500.0</td>\n",
       "      <td>3.628</td>\n",
       "      <td>3.816800</td>\n",
       "    </tr>\n",
       "  </tbody>\n",
       "</table>\n",
       "</div>"
      ],
      "text/plain": [
       "             High    Low   Open  Close      Volume  Adj Close     100ma\n",
       "Date                                                                   \n",
       "2010-06-29  5.000  3.508  3.800  4.778  93831500.0      4.778  4.778000\n",
       "2010-06-30  6.084  4.660  5.158  4.766  85935500.0      4.766  4.772000\n",
       "2010-07-01  5.184  4.054  5.000  4.392  41094000.0      4.392  4.645333\n",
       "2010-07-02  4.620  3.742  4.600  3.840  25699000.0      3.840  4.444000\n",
       "2010-07-06  4.000  3.166  4.000  3.222  34334500.0      3.222  4.199600\n",
       "2010-07-07  3.326  2.996  3.280  3.160  34608500.0      3.160  4.026333\n",
       "2010-07-08  3.504  3.114  3.228  3.492  38557000.0      3.492  3.950000\n",
       "2010-07-09  3.580  3.310  3.516  3.480  20253000.0      3.480  3.891250\n",
       "2010-07-12  3.614  3.400  3.590  3.410  11012500.0      3.410  3.837778\n",
       "2010-07-13  3.728  3.380  3.478  3.628  13400500.0      3.628  3.816800"
      ]
     },
     "execution_count": 67,
     "metadata": {},
     "output_type": "execute_result"
    }
   ],
   "source": [
    "df['100ma']=df['Adj Close'].rolling(window=100, min_periods=0).mean()\n",
    "\n",
    "#min_periods: int, default None\n",
    "#             Minimum number of observations in window required to have a value (otherwise result is NA). \n",
    "#             For a window that is specified by an offset, min_periods will default to 1. Otherwise, \n",
    "#             min_periods will default to the size of the window.\n",
    "df.head(10)"
   ]
  },
  {
   "cell_type": "markdown",
   "metadata": {},
   "source": [
    "Now we plot. We have a few graphs to plot, so we make one figure with subplots, these subplots are traditionally called \"axes\" (confusingly...), so I label the plots ax1, ax2,...etc.\n",
    "\n",
    "The function plt.subplot2grid creates an axis at specific location inside a regular grid."
   ]
  },
  {
   "cell_type": "code",
   "execution_count": 66,
   "metadata": {},
   "outputs": [
    {
     "data": {
      "image/png": "[encoded data removed]",
      "text/plain": [
       "<Figure size 432x288 with 2 Axes>"
      ]
     },
     "metadata": {},
     "output_type": "display_data"
    }
   ],
   "source": [
    "ax1 = plt.subplot2grid(shape=(6,1), loc=(0,0), rowspan=5, colspan=1)\n",
    "ax2 = plt.subplot2grid(shape=(6,1), loc=(5,0), rowspan=1, colspan=1, sharex=ax1)\n",
    "\n",
    "\n",
    "#Parameter descriptions: \n",
    "#----------------------------\n",
    "\n",
    "#shape :   sequence of 2 ints\n",
    "#          Shape of grid in which to place axis. First entry is number of rows, second entry is number of columns.\n",
    "\n",
    "#loc :     sequence of 2 ints\n",
    "#          Location to place axis within grid. First entry is row number, second entry is column number.\n",
    "\n",
    "#rowspan : int\n",
    "#          Number of rows for the axis to span to the right.\n",
    "\n",
    "#colspan : int\n",
    "#          Number of columns for the axis to span downwards.\n",
    "\n",
    "#sharex=ax1 means that ax2 will have it's x-axis ALIGNED with the x-axis of ax1, it doesn't mean \n",
    "#that they actually share the same axis bad wording it seems to me. In this particular case they do \n",
    "#happen to be sharing the same x-axis, namely date.\n",
    "\n",
    "ax1.plot(df.index, df['Adj Close'])\n",
    "ax1.plot(df.index, df['100ma'])\n",
    "ax2.bar(df.index, df['Volume'])\n",
    "\n",
    "plt.show()"
   ]
  },
  {
   "cell_type": "code",
   "execution_count": null,
   "metadata": {},
   "outputs": [],
   "source": []
  }
 ],
 "metadata": {
  "kernelspec": {
   "display_name": "Python 3",
   "language": "python",
   "name": "python3"
  },
  "language_info": {
   "codemirror_mode": {
    "name": "ipython",
    "version": 3
   },
   "file_extension": ".py",
   "mimetype": "text/x-python",
   "name": "python",
   "nbconvert_exporter": "python",
   "pygments_lexer": "ipython3",
   "version": "3.7.6"
  }
 },
 "nbformat": 4,
 "nbformat_minor": 4
}
